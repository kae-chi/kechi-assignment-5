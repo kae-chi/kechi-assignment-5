{
  "cells": [
    {
      "cell_type": "code",
      "execution_count": 6,
      "metadata": {
        "id": "1xUM2XXq51i2"
      },
      "outputs": [],
      "source": [
        "import numpy as np\n",
        "import pandas as pd"
      ]
    },
    {
      "cell_type": "code",
      "execution_count": 1,
      "metadata": {
        "id": "P_7mr67851i3"
      },
      "outputs": [],
      "source": [
        "class KNN:\n",
        "    def __init__(self, k_neighbors=3, distance_metric='euclidean'):\n",
        "        self.k_neighbors = k_neighbors\n",
        "        self.distance_metric = distance_metric\n",
        "\n",
        "    def fit(self, training_data, training_labels):\n",
        "        self.training_data = training_data\n",
        "        self.training_labels = training_labels\n",
        "\n",
        "    def predict(self, test_data):\n",
        "        predictions = []\n",
        "        test_data = np.array(test_data)\n",
        "        for test_point in test_data:\n",
        "            distances = self.compute_distance(test_point, self.training_data)\n",
        "            nearest_neighbors_indices = np.argsort(distances)[:self.k_neighbors]\n",
        "            nearest_neighbors_labels = self.training_labels.iloc[nearest_neighbors_indices]\n",
        "            weights = 1 / (distances[nearest_neighbors_indices] + 1e-5)  # Small epsilon to avoid division by zero\n",
        "\n",
        "            class_1_probability = np.sum(weights * (nearest_neighbors_labels == 1)) / np.sum(weights)\n",
        "            predictions.append(class_1_probability)\n",
        "\n",
        "        return np.array(predictions)\n",
        "\n",
        "    def compute_distance(self, test_point, training_data):\n",
        "        if self.distance_metric == 'euclidean':\n",
        "            return np.linalg.norm(training_data - test_point, axis=1)\n",
        "        elif self.distance_metric == 'manhattan':\n",
        "            return np.abs(training_data - test_point).sum(axis=1)\n",
        "        else:\n",
        "            raise ValueError(\"Unsupported distance metric\")\n"
      ]
    },
    {
      "cell_type": "code",
      "execution_count": 3,
      "metadata": {
        "id": "O8DGBkYN51i4"
      },
      "outputs": [],
      "source": [
        "# Define data preprocessing function\n",
        "def preprocess_data(train_path, test_path):\n",
        "    # Load data\n",
        "    training_data = pd.read_csv(train_path)\n",
        "    test_data = pd.read_csv(test_path)\n",
        "\n",
        "    # Select features and target variable\n",
        "    training_features = training_data.drop(columns=['Exited', 'id', 'Surname'])\n",
        "    training_labels = training_data['Exited']\n",
        "    test_features = test_data.drop(columns=['id', 'Surname'])\n",
        "\n",
        "    # Handle categorical variables (One-hot encoding)\n",
        "    training_features = pd.get_dummies(training_features, drop_first=True)\n",
        "    test_features = pd.get_dummies(test_features, drop_first=True)\n",
        "\n",
        "    # Align test set columns with training set\n",
        "    test_features = test_features.reindex(columns=training_features.columns, fill_value=0)\n",
        "\n",
        "    # Scale features\n",
        "    training_mean = training_features.mean()\n",
        "    training_std = training_features.std()\n",
        "    training_features = (training_features - training_mean) / training_std\n",
        "    test_features = (test_features - training_mean) / training_std\n",
        "\n",
        "    return training_features.values, training_labels, test_features.values\n"
      ]
    },
    {
      "cell_type": "code",
      "execution_count": 10,
      "metadata": {
        "id": "tS-qNxgw51i5"
      },
      "outputs": [],
      "source": [
        "# Define cross-validation function\n",
        "def cross_validate(features, labels, knn_model, n_splits=5):\n",
        "    indices = np.arange(len(labels))\n",
        "    scores = []\n",
        "    np.random.shuffle(indices)\n",
        "    fold_size = len(labels) // n_splits\n",
        "\n",
        "    for i in range(n_splits):\n",
        "        validation_indices = indices[i * fold_size:(i + 1) * fold_size]\n",
        "        training_indices = np.setdiff1d(indices, validation_indices)\n",
        "\n",
        "        features_train, features_validation = features[training_indices], features[validation_indices]\n",
        "        labels_train, labels_validation = labels.iloc[training_indices], labels.iloc[validation_indices]\n",
        "\n",
        "        knn_model.fit(features_train, labels_train)\n",
        "        validation_predictions_proba = knn_model.predict(features_validation)\n",
        "\n",
        "        # Compute ROC AUC\n",
        "        score = compute_roc_auc(labels_validation, validation_predictions_proba)\n",
        "        scores.append(score)\n",
        "\n",
        "    return scores\n",
        "\n",
        "def compute_roc_auc(true_labels, predicted_probabilities):\n",
        "    positive_label = 1\n",
        "    sorted_score_indices = np.argsort(predicted_probabilities, kind=\"mergesort\")[::-1]\n",
        "    true_labels = np.array(true_labels)[sorted_score_indices]\n",
        "    predicted_probabilities = np.array(predicted_probabilities)[sorted_score_indices]\n",
        "\n",
        "    distinct_value_indices = np.where(np.diff(predicted_probabilities))[0]\n",
        "    threshold_indices = np.r_[distinct_value_indices, true_labels.size - 1]\n",
        "\n",
        "    true_positives = np.cumsum(true_labels == positive_label)[threshold_indices]\n",
        "    false_positives = 1 + threshold_indices - true_positives\n",
        "\n",
        "    true_positive_rate = true_positives / true_positives[-1]\n",
        "    false_positive_rate = false_positives / false_positives[-1]\n",
        "\n",
        "    return np.trapz(true_positive_rate, false_positive_rate)\n",
        "\n",
        "# Function to find the best k\n",
        "def find_best_k(features, labels, max_k=20):\n",
        "    best_k_value = 1\n",
        "    best_score = 0\n",
        "    for k_value in range(1, max_k + 1):\n",
        "        knn_model = KNN(k_neighbors=k_value)\n",
        "        cross_val_scores = cross_validate(features, labels, knn_model)\n",
        "        average_score = np.mean(cross_val_scores)\n",
        "        if average_score > best_score:\n",
        "            best_score = average_score\n",
        "            best_k_value = k_value\n",
        "    return best_k_value, best_score\n"
      ]
    },
    {
      "cell_type": "code",
      "execution_count": 12,
      "metadata": {
        "colab": {
          "base_uri": "https://localhost:8080/"
        },
        "id": "NsQcQOu051i5",
        "outputId": "a26e03c6-1b41-493b-a131-58b8913e9b0a"
      },
      "outputs": [
        {
          "output_type": "stream",
          "name": "stdout",
          "text": [
            "Optimal k: 20, Best CV Score: 0.9037303647377491\n",
            "Predictions saved to submissions.csv\n"
          ]
        }
      ],
      "source": [
        "# Load and preprocess data\n",
        "X, y, X_test = preprocess_data('train.csv', 'test.csv')\n",
        "\n",
        "# Find the optimal k\n",
        "optimal_k, optimal_score = find_best_k(X, y)\n",
        "print(f\"Optimal k: {optimal_k}, Best CV Score: {optimal_score}\")\n",
        "\n",
        "# Train the model with the optimal k\n",
        "knn = KNN()\n",
        "knn.fit(X, y)\n",
        "\n",
        "# Make probability predictions on the test set\n",
        "test_probabilities = knn.predict(X_test)\n",
        "\n",
        "# Save test predictions with probabilities to CSV\n",
        "submission_df = pd.DataFrame({'id': pd.read_csv('test.csv')['id'], 'Exited': test_probabilities})\n",
        "submission_df.to_csv('submissions.csv', index=False)\n",
        "\n",
        "print(\"Predictions saved to submissions.csv\")"
      ]
    }
  ],
  "metadata": {
    "kernelspec": {
      "display_name": "base",
      "language": "python",
      "name": "python3"
    },
    "language_info": {
      "codemirror_mode": {
        "name": "ipython",
        "version": 3
      },
      "file_extension": ".py",
      "mimetype": "text/x-python",
      "name": "python",
      "nbconvert_exporter": "python",
      "pygments_lexer": "ipython3",
      "version": "3.12.4"
    },
    "colab": {
      "provenance": []
    }
  },
  "nbformat": 4,
  "nbformat_minor": 0
}